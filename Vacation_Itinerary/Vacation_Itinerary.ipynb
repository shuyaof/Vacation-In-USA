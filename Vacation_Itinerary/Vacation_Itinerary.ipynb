{
 "cells": [
  {
   "cell_type": "markdown",
   "metadata": {},
   "source": [
    "## Deliverable 3. Create a Travel Itinerary Map."
   ]
  },
  {
   "cell_type": "code",
   "execution_count": 1,
   "metadata": {},
   "outputs": [],
   "source": [
    "# Dependencies and Setup\n",
    "import pandas as pd\n",
    "import requests\n",
    "import gmaps\n",
    "\n",
    "# Import API key\n",
    "from config import g_key\n",
    "\n",
    "# Configure gmaps\n",
    "gmaps.configure(api_key=g_key)"
   ]
  },
  {
   "cell_type": "code",
   "execution_count": 2,
   "metadata": {},
   "outputs": [],
   "source": [
    "fig=gmaps.figure()"
   ]
  },
  {
   "cell_type": "code",
   "execution_count": 3,
   "metadata": {},
   "outputs": [
    {
     "data": {
      "application/vnd.jupyter.widget-view+json": {
       "model_id": "76473cd8c98e46c1bf90b69d024496ee",
       "version_major": 2,
       "version_minor": 0
      },
      "text/plain": [
       "Figure(layout=FigureLayout(height='420px'))"
      ]
     },
     "metadata": {},
     "output_type": "display_data"
    }
   ],
   "source": [
    "fig"
   ]
  },
  {
   "cell_type": "code",
   "execution_count": 4,
   "metadata": {},
   "outputs": [
    {
     "data": {
      "text/html": [
       "<div>\n",
       "<style scoped>\n",
       "    .dataframe tbody tr th:only-of-type {\n",
       "        vertical-align: middle;\n",
       "    }\n",
       "\n",
       "    .dataframe tbody tr th {\n",
       "        vertical-align: top;\n",
       "    }\n",
       "\n",
       "    .dataframe thead th {\n",
       "        text-align: right;\n",
       "    }\n",
       "</style>\n",
       "<table border=\"1\" class=\"dataframe\">\n",
       "  <thead>\n",
       "    <tr style=\"text-align: right;\">\n",
       "      <th></th>\n",
       "      <th>City</th>\n",
       "      <th>Country</th>\n",
       "      <th>Max Temp</th>\n",
       "      <th>Current Description</th>\n",
       "      <th>Lat</th>\n",
       "      <th>Lng</th>\n",
       "      <th>Hotel Name</th>\n",
       "    </tr>\n",
       "  </thead>\n",
       "  <tbody>\n",
       "    <tr>\n",
       "      <th>0</th>\n",
       "      <td>Mar Del Plata</td>\n",
       "      <td>AR</td>\n",
       "      <td>70.00</td>\n",
       "      <td>mist</td>\n",
       "      <td>-38.0023</td>\n",
       "      <td>-57.5575</td>\n",
       "      <td>Gran Hotel Mar del Plata</td>\n",
       "    </tr>\n",
       "    <tr>\n",
       "      <th>1</th>\n",
       "      <td>Port Alfred</td>\n",
       "      <td>ZA</td>\n",
       "      <td>68.50</td>\n",
       "      <td>overcast clouds</td>\n",
       "      <td>-33.5906</td>\n",
       "      <td>26.8910</td>\n",
       "      <td>The Halyards Hotel</td>\n",
       "    </tr>\n",
       "    <tr>\n",
       "      <th>2</th>\n",
       "      <td>Coahuayana</td>\n",
       "      <td>MX</td>\n",
       "      <td>75.20</td>\n",
       "      <td>clear sky</td>\n",
       "      <td>18.7333</td>\n",
       "      <td>-103.6833</td>\n",
       "      <td>El rranchito michuacan de ocampos</td>\n",
       "    </tr>\n",
       "    <tr>\n",
       "      <th>3</th>\n",
       "      <td>Lichinga</td>\n",
       "      <td>MZ</td>\n",
       "      <td>64.40</td>\n",
       "      <td>broken clouds</td>\n",
       "      <td>-13.3128</td>\n",
       "      <td>35.2406</td>\n",
       "      <td>Residencial Bendiak</td>\n",
       "    </tr>\n",
       "    <tr>\n",
       "      <th>4</th>\n",
       "      <td>Hobart</td>\n",
       "      <td>AU</td>\n",
       "      <td>64.40</td>\n",
       "      <td>light rain</td>\n",
       "      <td>-42.8794</td>\n",
       "      <td>147.3294</td>\n",
       "      <td>Mantra on Collins Hobart</td>\n",
       "    </tr>\n",
       "    <tr>\n",
       "      <th>...</th>\n",
       "      <td>...</td>\n",
       "      <td>...</td>\n",
       "      <td>...</td>\n",
       "      <td>...</td>\n",
       "      <td>...</td>\n",
       "      <td>...</td>\n",
       "      <td>...</td>\n",
       "    </tr>\n",
       "    <tr>\n",
       "      <th>143</th>\n",
       "      <td>Imbituba</td>\n",
       "      <td>BR</td>\n",
       "      <td>73.40</td>\n",
       "      <td>broken clouds</td>\n",
       "      <td>-28.2400</td>\n",
       "      <td>-48.6703</td>\n",
       "      <td>Praia Hotel Imbituba</td>\n",
       "    </tr>\n",
       "    <tr>\n",
       "      <th>144</th>\n",
       "      <td>Columbus</td>\n",
       "      <td>US</td>\n",
       "      <td>66.99</td>\n",
       "      <td>scattered clouds</td>\n",
       "      <td>39.9612</td>\n",
       "      <td>-82.9988</td>\n",
       "      <td>DoubleTree Suites by Hilton Hotel Columbus Dow...</td>\n",
       "    </tr>\n",
       "    <tr>\n",
       "      <th>145</th>\n",
       "      <td>Itapecerica</td>\n",
       "      <td>BR</td>\n",
       "      <td>69.39</td>\n",
       "      <td>overcast clouds</td>\n",
       "      <td>-20.4725</td>\n",
       "      <td>-45.1256</td>\n",
       "      <td>Paraíso da Zé</td>\n",
       "    </tr>\n",
       "    <tr>\n",
       "      <th>146</th>\n",
       "      <td>Ranong</td>\n",
       "      <td>TH</td>\n",
       "      <td>75.20</td>\n",
       "      <td>clear sky</td>\n",
       "      <td>9.9658</td>\n",
       "      <td>98.6348</td>\n",
       "      <td>Tinidee Hotel@Ranong</td>\n",
       "    </tr>\n",
       "    <tr>\n",
       "      <th>147</th>\n",
       "      <td>Kadi</td>\n",
       "      <td>IN</td>\n",
       "      <td>75.20</td>\n",
       "      <td>smoke</td>\n",
       "      <td>23.3000</td>\n",
       "      <td>72.3333</td>\n",
       "      <td>Ahmedkhan Saheb Ka Sakkarpura</td>\n",
       "    </tr>\n",
       "  </tbody>\n",
       "</table>\n",
       "<p>148 rows × 7 columns</p>\n",
       "</div>"
      ],
      "text/plain": [
       "              City Country  Max Temp Current Description      Lat       Lng  \\\n",
       "0    Mar Del Plata      AR     70.00                mist -38.0023  -57.5575   \n",
       "1      Port Alfred      ZA     68.50     overcast clouds -33.5906   26.8910   \n",
       "2       Coahuayana      MX     75.20           clear sky  18.7333 -103.6833   \n",
       "3         Lichinga      MZ     64.40       broken clouds -13.3128   35.2406   \n",
       "4           Hobart      AU     64.40          light rain -42.8794  147.3294   \n",
       "..             ...     ...       ...                 ...      ...       ...   \n",
       "143       Imbituba      BR     73.40       broken clouds -28.2400  -48.6703   \n",
       "144       Columbus      US     66.99    scattered clouds  39.9612  -82.9988   \n",
       "145    Itapecerica      BR     69.39     overcast clouds -20.4725  -45.1256   \n",
       "146         Ranong      TH     75.20           clear sky   9.9658   98.6348   \n",
       "147           Kadi      IN     75.20               smoke  23.3000   72.3333   \n",
       "\n",
       "                                            Hotel Name  \n",
       "0                             Gran Hotel Mar del Plata  \n",
       "1                                   The Halyards Hotel  \n",
       "2                    El rranchito michuacan de ocampos  \n",
       "3                                  Residencial Bendiak  \n",
       "4                             Mantra on Collins Hobart  \n",
       "..                                                 ...  \n",
       "143                               Praia Hotel Imbituba  \n",
       "144  DoubleTree Suites by Hilton Hotel Columbus Dow...  \n",
       "145                                      Paraíso da Zé  \n",
       "146                               Tinidee Hotel@Ranong  \n",
       "147                      Ahmedkhan Saheb Ka Sakkarpura  \n",
       "\n",
       "[148 rows x 7 columns]"
      ]
     },
     "execution_count": 4,
     "metadata": {},
     "output_type": "execute_result"
    }
   ],
   "source": [
    "# 1. Read the WeatherPy_vacation.csv into a DataFrame.\n",
    "vacation_df = pd.read_csv(\"Vacation_Search/WeatherPy_vacation.csv\")\n",
    "vacation_df"
   ]
  },
  {
   "cell_type": "code",
   "execution_count": 5,
   "metadata": {},
   "outputs": [
    {
     "data": {
      "text/html": [
       "<div>\n",
       "<style scoped>\n",
       "    .dataframe tbody tr th:only-of-type {\n",
       "        vertical-align: middle;\n",
       "    }\n",
       "\n",
       "    .dataframe tbody tr th {\n",
       "        vertical-align: top;\n",
       "    }\n",
       "\n",
       "    .dataframe thead th {\n",
       "        text-align: right;\n",
       "    }\n",
       "</style>\n",
       "<table border=\"1\" class=\"dataframe\">\n",
       "  <thead>\n",
       "    <tr style=\"text-align: right;\">\n",
       "      <th></th>\n",
       "      <th>City</th>\n",
       "      <th>Country</th>\n",
       "      <th>Max Temp</th>\n",
       "      <th>Current Description</th>\n",
       "      <th>Lat</th>\n",
       "      <th>Lng</th>\n",
       "      <th>Hotel Name</th>\n",
       "    </tr>\n",
       "  </thead>\n",
       "  <tbody>\n",
       "    <tr>\n",
       "      <th>14</th>\n",
       "      <td>Austin</td>\n",
       "      <td>US</td>\n",
       "      <td>69.01</td>\n",
       "      <td>overcast clouds</td>\n",
       "      <td>30.2672</td>\n",
       "      <td>-97.7431</td>\n",
       "      <td>The Driskill - In the Unbound Collection by Hyatt</td>\n",
       "    </tr>\n",
       "    <tr>\n",
       "      <th>30</th>\n",
       "      <td>Clarksburg</td>\n",
       "      <td>US</td>\n",
       "      <td>68.00</td>\n",
       "      <td>clear sky</td>\n",
       "      <td>39.2807</td>\n",
       "      <td>-80.3445</td>\n",
       "      <td>Greenbrier Motel &amp; Restaurant</td>\n",
       "    </tr>\n",
       "    <tr>\n",
       "      <th>31</th>\n",
       "      <td>Bayonet Point</td>\n",
       "      <td>US</td>\n",
       "      <td>70.00</td>\n",
       "      <td>scattered clouds</td>\n",
       "      <td>28.3267</td>\n",
       "      <td>-82.6834</td>\n",
       "      <td>Homewood Suites by Hilton Tampa-Port Richey</td>\n",
       "    </tr>\n",
       "    <tr>\n",
       "      <th>54</th>\n",
       "      <td>San Jose</td>\n",
       "      <td>US</td>\n",
       "      <td>66.99</td>\n",
       "      <td>broken clouds</td>\n",
       "      <td>37.3394</td>\n",
       "      <td>-121.8950</td>\n",
       "      <td>The Westin San Jose</td>\n",
       "    </tr>\n",
       "    <tr>\n",
       "      <th>61</th>\n",
       "      <td>Waggaman</td>\n",
       "      <td>US</td>\n",
       "      <td>70.00</td>\n",
       "      <td>overcast clouds</td>\n",
       "      <td>29.9185</td>\n",
       "      <td>-90.2109</td>\n",
       "      <td>Candlewood Suites Avondale-New Orleans</td>\n",
       "    </tr>\n",
       "    <tr>\n",
       "      <th>63</th>\n",
       "      <td>Russell</td>\n",
       "      <td>US</td>\n",
       "      <td>64.40</td>\n",
       "      <td>few clouds</td>\n",
       "      <td>32.3502</td>\n",
       "      <td>-85.1999</td>\n",
       "      <td>Macs</td>\n",
       "    </tr>\n",
       "    <tr>\n",
       "      <th>78</th>\n",
       "      <td>Buckeye</td>\n",
       "      <td>US</td>\n",
       "      <td>73.00</td>\n",
       "      <td>clear sky</td>\n",
       "      <td>33.3703</td>\n",
       "      <td>-112.5838</td>\n",
       "      <td>Buckeye Motor Hotel</td>\n",
       "    </tr>\n",
       "    <tr>\n",
       "      <th>87</th>\n",
       "      <td>Laguna</td>\n",
       "      <td>US</td>\n",
       "      <td>66.20</td>\n",
       "      <td>clear sky</td>\n",
       "      <td>38.4210</td>\n",
       "      <td>-121.4238</td>\n",
       "      <td>Holiday Inn Express &amp; Suites Elk Grove Central...</td>\n",
       "    </tr>\n",
       "    <tr>\n",
       "      <th>101</th>\n",
       "      <td>Ridgecrest</td>\n",
       "      <td>US</td>\n",
       "      <td>68.00</td>\n",
       "      <td>broken clouds</td>\n",
       "      <td>35.6225</td>\n",
       "      <td>-117.6709</td>\n",
       "      <td>SpringHill Suites by Marriott Ridgecrest</td>\n",
       "    </tr>\n",
       "    <tr>\n",
       "      <th>108</th>\n",
       "      <td>Bluffton</td>\n",
       "      <td>US</td>\n",
       "      <td>66.99</td>\n",
       "      <td>clear sky</td>\n",
       "      <td>32.2371</td>\n",
       "      <td>-80.8604</td>\n",
       "      <td>Holiday Inn Express &amp; Suites Bluffton @ Hilton...</td>\n",
       "    </tr>\n",
       "    <tr>\n",
       "      <th>115</th>\n",
       "      <td>Seguin</td>\n",
       "      <td>US</td>\n",
       "      <td>71.60</td>\n",
       "      <td>haze</td>\n",
       "      <td>29.5688</td>\n",
       "      <td>-97.9647</td>\n",
       "      <td>La Quinta Inn &amp; Suites by Wyndham Seguin</td>\n",
       "    </tr>\n",
       "    <tr>\n",
       "      <th>144</th>\n",
       "      <td>Columbus</td>\n",
       "      <td>US</td>\n",
       "      <td>66.99</td>\n",
       "      <td>scattered clouds</td>\n",
       "      <td>39.9612</td>\n",
       "      <td>-82.9988</td>\n",
       "      <td>DoubleTree Suites by Hilton Hotel Columbus Dow...</td>\n",
       "    </tr>\n",
       "  </tbody>\n",
       "</table>\n",
       "</div>"
      ],
      "text/plain": [
       "              City Country  Max Temp Current Description      Lat       Lng  \\\n",
       "14          Austin      US     69.01     overcast clouds  30.2672  -97.7431   \n",
       "30      Clarksburg      US     68.00           clear sky  39.2807  -80.3445   \n",
       "31   Bayonet Point      US     70.00    scattered clouds  28.3267  -82.6834   \n",
       "54        San Jose      US     66.99       broken clouds  37.3394 -121.8950   \n",
       "61        Waggaman      US     70.00     overcast clouds  29.9185  -90.2109   \n",
       "63         Russell      US     64.40          few clouds  32.3502  -85.1999   \n",
       "78         Buckeye      US     73.00           clear sky  33.3703 -112.5838   \n",
       "87          Laguna      US     66.20           clear sky  38.4210 -121.4238   \n",
       "101     Ridgecrest      US     68.00       broken clouds  35.6225 -117.6709   \n",
       "108       Bluffton      US     66.99           clear sky  32.2371  -80.8604   \n",
       "115         Seguin      US     71.60                haze  29.5688  -97.9647   \n",
       "144       Columbus      US     66.99    scattered clouds  39.9612  -82.9988   \n",
       "\n",
       "                                            Hotel Name  \n",
       "14   The Driskill - In the Unbound Collection by Hyatt  \n",
       "30                       Greenbrier Motel & Restaurant  \n",
       "31         Homewood Suites by Hilton Tampa-Port Richey  \n",
       "54                                 The Westin San Jose  \n",
       "61              Candlewood Suites Avondale-New Orleans  \n",
       "63                                                Macs  \n",
       "78                                 Buckeye Motor Hotel  \n",
       "87   Holiday Inn Express & Suites Elk Grove Central...  \n",
       "101           SpringHill Suites by Marriott Ridgecrest  \n",
       "108  Holiday Inn Express & Suites Bluffton @ Hilton...  \n",
       "115           La Quinta Inn & Suites by Wyndham Seguin  \n",
       "144  DoubleTree Suites by Hilton Hotel Columbus Dow...  "
      ]
     },
     "execution_count": 5,
     "metadata": {},
     "output_type": "execute_result"
    }
   ],
   "source": [
    "vacation_df.loc[vacation_df[\"Country\"]==\"US\"]"
   ]
  },
  {
   "cell_type": "code",
   "execution_count": 6,
   "metadata": {},
   "outputs": [],
   "source": [
    "# random.randit"
   ]
  },
  {
   "cell_type": "code",
   "execution_count": 7,
   "metadata": {},
   "outputs": [],
   "source": [
    "# 2. Using the template add the city name, the country code, the weather description and maximum temperature for the city.\n",
    "info_box_template = \"\"\"\n",
    "<dl>\n",
    "<dt>Hotel Name</dt><dd>{Hotel Name}</dd>\n",
    "<dt>City</dt><dd>{City}</dd>\n",
    "<dt>Country</dt><dd>{Country}</dd>\n",
    "<dt>Current Weather</dt><dd>{Current Description} and {Max Temp} °F</dd>\n",
    "</dl>\n",
    "\"\"\"\n",
    "# 3a. Get the data from each row and add it to the formatting template and store the data in a list.\n",
    "hotel_info = [info_box_template.format(**row) for index, row in vacation_df.iterrows()]\n",
    "\n",
    "# 3b. Get the latitude and longitude from each row and store in a new DataFrame.\n",
    "locations =vacation_df[[\"Lat\", \"Lng\"]]"
   ]
  },
  {
   "cell_type": "code",
   "execution_count": 8,
   "metadata": {
    "scrolled": true
   },
   "outputs": [
    {
     "data": {
      "application/vnd.jupyter.widget-view+json": {
       "model_id": "4f52fa54ad9f4076baefa2e7c3af88c8",
       "version_major": 2,
       "version_minor": 0
      },
      "text/plain": [
       "Figure(layout=FigureLayout(height='420px'))"
      ]
     },
     "metadata": {},
     "output_type": "display_data"
    }
   ],
   "source": [
    "# 4a. Add a marker layer for each city to the map.\n",
    "marker_layer = gmaps.marker_layer(locations, info_box_content=hotel_info)\n",
    "fig = gmaps.figure()\n",
    "fig.add_layer(marker_layer)\n",
    "\n",
    "# 4b. Display the figure\n",
    "fig"
   ]
  },
  {
   "cell_type": "code",
   "execution_count": 12,
   "metadata": {},
   "outputs": [],
   "source": [
    "# From the map above pick 4 cities and create a vacation itinerary route to travel between the four cities. \n",
    "# 5. Create DataFrames for each city by filtering the 'vacation_df' using the loc method. \n",
    "# Hint: The starting and ending city should be the same city.\n",
    "\n",
    "vacation_start = vacation_df.loc[vacation_df[\"City\"] == \"Austin\"]\n",
    "vacation_end = vacation_df.loc[vacation_df[\"City\"] == \"Austin\"]\n",
    "vacation_stop1 = vacation_df.loc[vacation_df[\"City\"]==\"Clarksburg\"]\n",
    "vacation_stop2 = vacation_df.loc[vacation_df[\"City\"]==\"Bayonet Point\"] \n",
    "vacation_stop3 = vacation_df.loc[vacation_df[\"City\"]==\"San Jose\"]"
   ]
  },
  {
   "cell_type": "code",
   "execution_count": 10,
   "metadata": {},
   "outputs": [
    {
     "data": {
      "text/plain": [
       "array([['Mar Del Plata', 'AR', 70.0, ..., -38.0023, -57.5575,\n",
       "        'Gran Hotel Mar del Plata'],\n",
       "       ['Port Alfred', 'ZA', 68.5, ..., -33.5906, 26.891,\n",
       "        'The Halyards Hotel'],\n",
       "       ['Coahuayana', 'MX', 75.2, ..., 18.7333, -103.6833,\n",
       "        'El rranchito michuacan de ocampos'],\n",
       "       ...,\n",
       "       ['Itapecerica', 'BR', 69.39, ..., -20.4725, -45.1256,\n",
       "        'Paraíso da Zé'],\n",
       "       ['Ranong', 'TH', 75.2, ..., 9.9658, 98.6348,\n",
       "        'Tinidee Hotel@Ranong'],\n",
       "       ['Kadi', 'IN', 75.2, ..., 23.3, 72.3333,\n",
       "        'Ahmedkhan Saheb Ka Sakkarpura']], dtype=object)"
      ]
     },
     "execution_count": 10,
     "metadata": {},
     "output_type": "execute_result"
    }
   ],
   "source": [
    "vacation_df.to_numpy()"
   ]
  },
  {
   "cell_type": "code",
   "execution_count": 17,
   "metadata": {},
   "outputs": [],
   "source": [
    "# 6. Get the latitude-longitude pairs as tuples from each city DataFrame using the to_numpy function and list indexing.\n",
    "start = vacation_start[\"Lat\"].to_numpy()[0], vacation_start[\"Lng\"].to_numpy()[0]\n",
    "end = vacation_end[\"Lat\"].to_numpy()[0], vacation_end[\"Lng\"].to_numpy()[0]\n",
    "stop1 = vacation_stop1[\"Lat\"].to_numpy()[0], vacation_stop1[\"Lng\"].to_numpy()[0]\n",
    "stop2 = vacation_stop2[\"Lat\"].to_numpy()[0], vacation_stop2[\"Lng\"].to_numpy()[0]\n",
    "stop3 = vacation_stop3[\"Lat\"].to_numpy()[0], vacation_stop3[\"Lng\"].to_numpy()[0]"
   ]
  },
  {
   "cell_type": "code",
   "execution_count": 18,
   "metadata": {
    "scrolled": true
   },
   "outputs": [
    {
     "data": {
      "application/vnd.jupyter.widget-view+json": {
       "model_id": "35158a8347574397853b2faff1c0b6a5",
       "version_major": 2,
       "version_minor": 0
      },
      "text/plain": [
       "Figure(layout=FigureLayout(height='420px'))"
      ]
     },
     "metadata": {},
     "output_type": "display_data"
    }
   ],
   "source": [
    "# 7. Create a direction layer map using the start and end latitude-longitude pairs,\n",
    "# and stop1, stop2, and stop3 as the waypoints. The travel_mode should be \"DRIVING\", \"BICYCLING\", or \"WALKING\".\n",
    "fig = gmaps.figure()\n",
    "trip_usa = gmaps.directions_layer(\n",
    "        start, end, waypoints=[stop1],\n",
    "        travel_mode='DRIVING')\n",
    "fig.add_layer(trip_usa)\n",
    "fig\n"
   ]
  },
  {
   "cell_type": "code",
   "execution_count": 14,
   "metadata": {},
   "outputs": [
    {
     "data": {
      "text/html": [
       "<div>\n",
       "<style scoped>\n",
       "    .dataframe tbody tr th:only-of-type {\n",
       "        vertical-align: middle;\n",
       "    }\n",
       "\n",
       "    .dataframe tbody tr th {\n",
       "        vertical-align: top;\n",
       "    }\n",
       "\n",
       "    .dataframe thead th {\n",
       "        text-align: right;\n",
       "    }\n",
       "</style>\n",
       "<table border=\"1\" class=\"dataframe\">\n",
       "  <thead>\n",
       "    <tr style=\"text-align: right;\">\n",
       "      <th></th>\n",
       "      <th>City</th>\n",
       "      <th>Country</th>\n",
       "      <th>Max Temp</th>\n",
       "      <th>Current Description</th>\n",
       "      <th>Lat</th>\n",
       "      <th>Lng</th>\n",
       "      <th>Hotel Name</th>\n",
       "    </tr>\n",
       "  </thead>\n",
       "  <tbody>\n",
       "    <tr>\n",
       "      <th>0</th>\n",
       "      <td>Austin</td>\n",
       "      <td>US</td>\n",
       "      <td>69.01</td>\n",
       "      <td>overcast clouds</td>\n",
       "      <td>30.2672</td>\n",
       "      <td>-97.7431</td>\n",
       "      <td>The Driskill - In the Unbound Collection by Hyatt</td>\n",
       "    </tr>\n",
       "    <tr>\n",
       "      <th>1</th>\n",
       "      <td>Clarksburg</td>\n",
       "      <td>US</td>\n",
       "      <td>68.00</td>\n",
       "      <td>clear sky</td>\n",
       "      <td>39.2807</td>\n",
       "      <td>-80.3445</td>\n",
       "      <td>Greenbrier Motel &amp; Restaurant</td>\n",
       "    </tr>\n",
       "    <tr>\n",
       "      <th>2</th>\n",
       "      <td>Bayonet Point</td>\n",
       "      <td>US</td>\n",
       "      <td>70.00</td>\n",
       "      <td>scattered clouds</td>\n",
       "      <td>28.3267</td>\n",
       "      <td>-82.6834</td>\n",
       "      <td>Homewood Suites by Hilton Tampa-Port Richey</td>\n",
       "    </tr>\n",
       "    <tr>\n",
       "      <th>3</th>\n",
       "      <td>San Jose</td>\n",
       "      <td>US</td>\n",
       "      <td>66.99</td>\n",
       "      <td>broken clouds</td>\n",
       "      <td>37.3394</td>\n",
       "      <td>-121.8950</td>\n",
       "      <td>The Westin San Jose</td>\n",
       "    </tr>\n",
       "  </tbody>\n",
       "</table>\n",
       "</div>"
      ],
      "text/plain": [
       "            City Country  Max Temp Current Description      Lat       Lng  \\\n",
       "0         Austin      US     69.01     overcast clouds  30.2672  -97.7431   \n",
       "1     Clarksburg      US     68.00           clear sky  39.2807  -80.3445   \n",
       "2  Bayonet Point      US     70.00    scattered clouds  28.3267  -82.6834   \n",
       "3       San Jose      US     66.99       broken clouds  37.3394 -121.8950   \n",
       "\n",
       "                                          Hotel Name  \n",
       "0  The Driskill - In the Unbound Collection by Hyatt  \n",
       "1                      Greenbrier Motel & Restaurant  \n",
       "2        Homewood Suites by Hilton Tampa-Port Richey  \n",
       "3                                The Westin San Jose  "
      ]
     },
     "execution_count": 14,
     "metadata": {},
     "output_type": "execute_result"
    }
   ],
   "source": [
    "# 8. To create a marker layer map between the four cities.\n",
    "#  Combine the four city DataFrames into one DataFrame using the concat() function.\n",
    "itinerary_df = pd.concat([vacation_start,vacation_stop1,vacation_stop2,vacation_stop3],ignore_index=True)\n",
    "itinerary_df"
   ]
  },
  {
   "cell_type": "code",
   "execution_count": 15,
   "metadata": {},
   "outputs": [],
   "source": [
    "# 9 Using the template add city name, the country code, the weather description and maximum temperature for the city. \n",
    "info_box_template = \"\"\"\n",
    "<dl>\n",
    "<dt>City Name</dt><dd>{City}</dd>\n",
    "<dt>Country Code</dt><dd>{Country}</dd>\n",
    "<dt>Current Weather</dt><dd>{Current Description} and {Max Temp} °F</dd>\n",
    "</dl>\n",
    "\"\"\"\n",
    "\n",
    "# 10a Get the data from each row and add it to the formatting template and store the data in a list.\n",
    "hotel_info = [info_box_template.format(**row) for index, row in itinerary_df.iterrows()]\n",
    "\n",
    "# 10b. Get the latitude and longitude from each row and store in a new DataFrame.\n",
    "locations = itinerary_df[[\"Lat\", \"Lng\"]]"
   ]
  },
  {
   "cell_type": "code",
   "execution_count": 16,
   "metadata": {},
   "outputs": [
    {
     "data": {
      "application/vnd.jupyter.widget-view+json": {
       "model_id": "e596502ac5aa493697459517a27821e8",
       "version_major": 2,
       "version_minor": 0
      },
      "text/plain": [
       "Figure(layout=FigureLayout(height='420px'))"
      ]
     },
     "metadata": {},
     "output_type": "display_data"
    }
   ],
   "source": [
    "# 11a. Add a marker layer for each city to the map.\n",
    "marker_layer = gmaps.marker_layer(locations, info_box_content=hotel_info)\n",
    "fig = gmaps.figure()\n",
    "fig.add_layer(marker_layer)\n",
    "# 11b. Display the figure\n",
    "fig"
   ]
  },
  {
   "cell_type": "code",
   "execution_count": null,
   "metadata": {},
   "outputs": [],
   "source": []
  }
 ],
 "metadata": {
  "kernelspec": {
   "display_name": "Python 3",
   "language": "python",
   "name": "python3"
  },
  "language_info": {
   "codemirror_mode": {
    "name": "ipython",
    "version": 3
   },
   "file_extension": ".py",
   "mimetype": "text/x-python",
   "name": "python",
   "nbconvert_exporter": "python",
   "pygments_lexer": "ipython3",
   "version": "3.8.5"
  },
  "latex_envs": {
   "LaTeX_envs_menu_present": true,
   "autoclose": false,
   "autocomplete": true,
   "bibliofile": "biblio.bib",
   "cite_by": "apalike",
   "current_citInitial": 1,
   "eqLabelWithNumbers": true,
   "eqNumInitial": 1,
   "hotkeys": {
    "equation": "Ctrl-E",
    "itemize": "Ctrl-I"
   },
   "labels_anchors": false,
   "latex_user_defs": false,
   "report_style_numbering": false,
   "user_envs_cfg": false
  }
 },
 "nbformat": 4,
 "nbformat_minor": 2
}
